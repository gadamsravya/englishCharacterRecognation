{
  "nbformat": 4,
  "nbformat_minor": 0,
  "metadata": {
    "colab": {
      "name": "characterRecognistion.ipynb",
      "provenance": [],
      "collapsed_sections": [],
      "toc_visible": true,
      "machine_shape": "hm",
      "mount_file_id": "13OBszXABG3km3hOr_YShtJplQdeQkUae",
      "authorship_tag": "ABX9TyPDYm2bYLujfl860H1s3dVl",
      "include_colab_link": true
    },
    "kernelspec": {
      "name": "python3",
      "display_name": "Python 3"
    }
  },
  "cells": [
    {
      "cell_type": "markdown",
      "metadata": {
        "id": "view-in-github",
        "colab_type": "text"
      },
      "source": [
        "<a href=\"https://colab.research.google.com/github/gadamsravya/englishCharacterRecognation/blob/master/characterRecognistion.ipynb\" target=\"_parent\"><img src=\"https://colab.research.google.com/assets/colab-badge.svg\" alt=\"Open In Colab\"/></a>"
      ]
    },
    {
      "cell_type": "code",
      "metadata": {
        "id": "-nM7urhpuFNm",
        "colab_type": "code",
        "colab": {}
      },
      "source": [
        "import pandas as pd\n",
        "import numpy as np\n",
        "import csv\n",
        "import cv2\n",
        "from google.colab.patches import cv2_imshow\n",
        "from matplotlib import pyplot as plt\n",
        "from sklearn.model_selection import train_test_split\n",
        "import tensorflow as tf\n",
        "\n",
        "#tf.disable_v2_behavior()\n",
        "\n",
        "%matplotlib inline\n",
        "np.random.seed(1)"
      ],
      "execution_count": 0,
      "outputs": []
    },
    {
      "cell_type": "code",
      "metadata": {
        "id": "Idlq3wl9u3lP",
        "colab_type": "code",
        "colab": {}
      },
      "source": [
        "data_file= '/content/drive/My Drive/ Recognition of Characters/A_Z Handwritten Data (1).csv'\n",
        "data = pd.read_csv(data_file, header=None)"
      ],
      "execution_count": 0,
      "outputs": []
    },
    {
      "cell_type": "code",
      "metadata": {
        "id": "VyhyUVxNvAj4",
        "colab_type": "code",
        "colab": {}
      },
      "source": [
        "data1=np.array(data)\n",
        "img=np.array(data1[0,1:])"
      ],
      "execution_count": 0,
      "outputs": []
    },
    {
      "cell_type": "code",
      "metadata": {
        "id": "0G9i0F0CVXpE",
        "colab_type": "code",
        "outputId": "e2af66e5-fc6e-4e88-dea7-d75860805fdc",
        "colab": {
          "base_uri": "https://localhost:8080/",
          "height": 756
        }
      },
      "source": [
        "print(img)"
      ],
      "execution_count": 9,
      "outputs": [
        {
          "output_type": "stream",
          "text": [
            "[  0   0   0   0   0   0   0   0   0   0   0   0   0   0   0   0   0   0\n",
            "   0   0   0   0   0   0   0   0   0   0   0   0   0   0   0   0   0   0\n",
            "   0   0   0   0   0   0   0   0   0   0   0   0   0   0   0   0   0   0\n",
            "   0   0   0   0   0   0   0   0   0   0   0   0   0   0   0   0   0   0\n",
            "   0   0   0   0   0   0   0   0   0   0   0   0   0   0   0   0   0   0\n",
            "   0   0   0   0   0   0   0   0   0   0   0   0   0   0   0   0   0   0\n",
            "   0   0   0   0   0   0   0   0   0   0   0   0   0   0   0   0   0   0\n",
            "  32 215 235  43   0   0   0   0   0   0   0   0   0   0   0   0   0   0\n",
            "   0   0   0   0   0   0   0   0   0   0 130 255 255 107   0   0   0   0\n",
            "   0   0   0   0   0   0   0   0   0   0   0   0   0   0   0   0   0   0\n",
            "   0  14 227 255 255 107   0   0   0   0   0   0   0   0   0   0   0   0\n",
            "   0   0   0   0   0   0   0   0   0   0   0 152 255 255 255 162   0   0\n",
            "   0   0   0   0   0   0   0   0   0   0   0   0   0   0   0   0   0   0\n",
            "   0   0  91 255 255 255 255 190   0   0   0   0   0   0   0   0   0   0\n",
            "   0   0   0   0   0   0   0   0   0   0   0  47 237 255 212 188 255 190\n",
            "   0   0   0   0   0   0   0   0   0   0   0   0   0   0   0   0   0   0\n",
            "   0   0   0 113 255 255  97 136 255 190   0   0   0   0   0   0   0   0\n",
            "   0   0   0   0   0   0   0   0   0   0   0   0  43 235 255 158   0 136\n",
            " 255 107   0   0   0   0   0   0   0   0   0   0   0   0   0   0   0   0\n",
            "   0   0   0   0 107 255 255  75   0 136 255 107   0   0   0   0   0   0\n",
            "   0   0   0   0   0   0   0   0   0   0   0   0   0  67 233 255 255 255\n",
            " 212 215 255 206 170 170 142   0   0   0   0   0   0   0   0   0   0   0\n",
            "   0   0   0   0   0 156 255 255 255 255 255 255 255 255 255 255 255   0\n",
            "   0   0   0   0   0   0   0   0   0   0   0   0   0   0  40 255 255 255\n",
            " 243 128 156 188 255 255 176 117  57   0   0   0   0   0   0   0   0   0\n",
            "   0   0   0   0   0   0  67 255 255 142   0   0   0  53 255 190   0   0\n",
            "   0   0   0   0   0   0   0   0   0   0   0   0   0   0   0   4 229 255\n",
            " 239  20   0   0   0  53 255 190   0   0   0   0   0   0   0   0   0   0\n",
            "   0   0   0   0   0   0   0  89 255 255 176   0   0   0   0  53 255 233\n",
            "  12   0   0   0   0   0   0   0   0   0   0   0   0   0   0   0   0 227\n",
            " 255 249  71   0   0   0   0   0 225 255  18   0   0   0   0   0   0   0\n",
            "   0   0   0   0   0   0   0   0   0 144 223 130   0   0   0   0   0   0\n",
            " 170 255 101   0   0   0   0   0   0   0   0   0   0   0   0   0   0   0\n",
            "   0   0   0   0   0   0   0   0   0   0 142 255 184   0   0   0   0   0\n",
            "   0   0   0   0   0   0   0   0   0   0   0   0   0   0   0   0   0   0\n",
            "   0   0  59 255 255  12   0   0   0   0   0   0   0   0   0   0   0   0\n",
            "   0   0   0   0   0   0   0   0   0   0   0   0  59 255 152   4   0   0\n",
            "   0   0   0   0   0   0   0   0   0   0   0   0   0   0   0   0   0   0\n",
            "   0   0   0   0   0   0   0   0   0   0   0   0   0   0   0   0   0   0\n",
            "   0   0   0   0   0   0   0   0   0   0   0   0   0   0   0   0   0   0\n",
            "   0   0   0   0   0   0   0   0   0   0   0   0   0   0   0   0   0   0\n",
            "   0   0   0   0   0   0   0   0   0   0   0   0   0   0   0   0   0   0\n",
            "   0   0   0   0   0   0   0   0   0   0   0   0   0   0   0   0   0   0\n",
            "   0   0   0   0   0   0   0   0   0   0]\n"
          ],
          "name": "stdout"
        }
      ]
    },
    {
      "cell_type": "code",
      "metadata": {
        "id": "zkqzTNlBvenI",
        "colab_type": "code",
        "colab": {}
      },
      "source": [
        "img=np.reshape(img,(28,28))"
      ],
      "execution_count": 0,
      "outputs": []
    },
    {
      "cell_type": "code",
      "metadata": {
        "id": "XKI-nFXYvyqK",
        "colab_type": "code",
        "outputId": "6f8a6ad6-30b5-472a-f398-1dada9cfccbc",
        "colab": {
          "base_uri": "https://localhost:8080/",
          "height": 265
        }
      },
      "source": [
        "plt.imshow(img)\n",
        "plt.show()"
      ],
      "execution_count": 11,
      "outputs": [
        {
          "output_type": "display_data",
          "data": {
            "image/png": "[encoded data removed]",
            "text/plain": [
              "<Figure size 432x288 with 1 Axes>"
            ]
          },
          "metadata": {
            "tags": [],
            "needs_background": "light"
          }
        }
      ]
    },
    {
      "cell_type": "code",
      "metadata": {
        "id": "XPtWM0IXv24z",
        "colab_type": "code",
        "colab": {}
      },
      "source": [
        "from tensorflow import keras\n",
        "num_classes=26\n",
        "img_size=28\n",
        "num_images=data.shape[0]\n",
        "def prepare(raw):\n",
        "  y= raw[:,0]\n",
        "  out_y=keras.utils.to_categorical(y, num_classes)\n",
        "\n",
        "  X=raw[:,1:]\n",
        "  out_x=np.reshape(X,(num_images,img_size,img_size,1))\n",
        "  out_x=out_x/255\n",
        "\n",
        "  return out_x, out_y\n",
        "\n"
      ],
      "execution_count": 0,
      "outputs": []
    },
    {
      "cell_type": "code",
      "metadata": {
        "id": "EtcpCcr-Wd0J",
        "colab_type": "code",
        "colab": {}
      },
      "source": [
        "X, y= prepare(data1)"
      ],
      "execution_count": 0,
      "outputs": []
    },
    {
      "cell_type": "code",
      "metadata": {
        "id": "Qecy5nWYy5sN",
        "colab_type": "code",
        "colab": {}
      },
      "source": [
        "X_train, X_test, y_train, y_test = train_test_split(X, y, test_size=0.3, random_state=42)"
      ],
      "execution_count": 0,
      "outputs": []
    },
    {
      "cell_type": "code",
      "metadata": {
        "id": "74hnyEwwaYAX",
        "colab_type": "code",
        "outputId": "eb8b226d-a1e7-4e2f-d0e3-bff6eed982ec",
        "colab": {
          "base_uri": "https://localhost:8080/",
          "height": 101
        }
      },
      "source": [
        "from tensorflow.python.keras.models import Sequential\n",
        "from tensorflow.python.keras.layers import Conv2D, Dense, Flatten, Dropout\n",
        "\n",
        "char_recog= Sequential()\n",
        "char_recog.add(Conv2D(20, kernel_size=(3,3), activation='relu', input_shape=(img_size,img_size,1)))\n",
        "char_recog.add(Conv2D(20, kernel_size=(3,3), activation='relu'))\n",
        "char_recog.add(Flatten())\n",
        "char_recog.add(Dense(100, activation='relu'))\n",
        "char_recog.add(Dense(num_classes,activation='softmax'))\n",
        "\n",
        "#Compiling the model\n",
        "\n",
        "char_recog.compile(loss=keras.losses.categorical_crossentropy, optimizer='adam', metrics=['accuracy'])\n",
        "\n",
        "#fit the model\n",
        "\n",
        "char_recog.fit(X_train,y_train, batch_size=126, epochs=2, validation_split=0.2)"
      ],
      "execution_count": 41,
      "outputs": [
        {
          "output_type": "stream",
          "text": [
            "Epoch 1/2\n",
            "1656/1656 [==============================] - 127s 76ms/step - loss: 0.1891 - accuracy: 0.9474 - val_loss: 0.0890 - val_accuracy: 0.9756\n",
            "Epoch 2/2\n",
            "1656/1656 [==============================] - 126s 76ms/step - loss: 0.0704 - accuracy: 0.9799 - val_loss: 0.0661 - val_accuracy: 0.9814\n"
          ],
          "name": "stdout"
        },
        {
          "output_type": "execute_result",
          "data": {
            "text/plain": [
              "<tensorflow.python.keras.callbacks.History at 0x7f25cb7920b8>"
            ]
          },
          "metadata": {
            "tags": []
          },
          "execution_count": 41
        }
      ]
    },
    {
      "cell_type": "code",
      "metadata": {
        "id": "Mf5NyuwyP5rT",
        "colab_type": "code",
        "colab": {
          "base_uri": "https://localhost:8080/",
          "height": 644
        },
        "outputId": "cdc28c68-88bc-4c77-b20d-186b70c0c648"
      },
      "source": [
        "from tensorflow import keras\n",
        "keras.utils.plot_model(char_recog, \"my_first_model.png\", show_shapes=True)"
      ],
      "execution_count": 42,
      "outputs": [
        {
          "output_type": "execute_result",
          "data": {
            "image/png": "[encoded data removed]",
            "text/plain": [
              "<IPython.core.display.Image object>"
            ]
          },
          "metadata": {
            "tags": []
          },
          "execution_count": 42
        }
      ]
    },
    {
      "cell_type": "code",
      "metadata": {
        "id": "GKtJZ-bQQ9JN",
        "colab_type": "code",
        "colab": {
          "base_uri": "https://localhost:8080/",
          "height": 34
        },
        "outputId": "2a63c5b5-38ae-4e5f-dca4-410f46fefe95"
      },
      "source": [
        "test_scores = char_recog.evaluate(X_test,y_test)"
      ],
      "execution_count": 43,
      "outputs": [
        {
          "output_type": "stream",
          "text": [
            "3492/3492 [==============================] - 27s 8ms/step - loss: 0.0630 - accuracy: 0.9827\n"
          ],
          "name": "stdout"
        }
      ]
    },
    {
      "cell_type": "code",
      "metadata": {
        "id": "k_bFf-HNT1tA",
        "colab_type": "code",
        "colab": {
          "base_uri": "https://localhost:8080/",
          "height": 34
        },
        "outputId": "4949ba39-8142-4bb2-d5c1-f16ad6f99f62"
      },
      "source": [
        "print(\"Accuracy of the model:\", test_scores[1])"
      ],
      "execution_count": 44,
      "outputs": [
        {
          "output_type": "stream",
          "text": [
            "Accuracy of the model: 0.9827092289924622\n"
          ],
          "name": "stdout"
        }
      ]
    },
    {
      "cell_type": "code",
      "metadata": {
        "id": "aPrvJDuFUK3o",
        "colab_type": "code",
        "colab": {}
      },
      "source": [
        ""
      ],
      "execution_count": 0,
      "outputs": []
    }
  ]
}